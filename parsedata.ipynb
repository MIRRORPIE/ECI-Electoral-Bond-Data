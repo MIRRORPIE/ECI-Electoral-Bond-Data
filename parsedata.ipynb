{
 "cells": [
  {
   "cell_type": "markdown",
   "id": "4663ae67-cbb5-4639-bd4a-deebd4bcbb6c",
   "metadata": {},
   "source": [
    "### Electoral Bond Data:"
   ]
  },
  {
   "cell_type": "code",
   "execution_count": 35,
   "id": "b4a487a2-30e4-41f1-ab01-e8947a7e8327",
   "metadata": {},
   "outputs": [
    {
     "name": "stdout",
     "output_type": "stream",
     "text": [
      "337\n"
     ]
    },
    {
     "name": "stderr",
     "output_type": "stream",
     "text": [
      "100%|████████████████████████████████████████████████████████████████████████████████| 337/337 [00:11<00:00, 28.37it/s]\n"
     ]
    }
   ],
   "source": [
    "import PyPDF2\n",
    "import time\n",
    "import re\n",
    "import pandas as pd\n",
    "from tqdm import tqdm\n",
    "\n",
    "df = pd.DataFrame()\n",
    "\n",
    "def extract_text(text):\n",
    "    pattern = r'(\\d+/\\w+/\\d+)\\s+(.*?)\\s+(\\d+,\\d+,\\d+)'\n",
    "    matches = re.findall(pattern, text)\n",
    "    df = pd.DataFrame(matches, columns=['Date', 'Purchaser', 'Denomination'])\n",
    "    return df\n",
    "\n",
    "with open('electoral1.pdf', 'rb') as file:\n",
    "    # Create a PDF reader object\n",
    "    reader = PyPDF2.PdfReader(file)\n",
    "    # Get the number of pages in the PDF\n",
    "    num_pages = len(reader.pages)\n",
    "    print(num_pages)\n",
    "    # Loop through each page and extract text\n",
    "    for page_num in tqdm(range(num_pages)):\n",
    "        page = reader.pages[page_num]\n",
    "        text = page.extract_text()\n",
    "        temp = extract_text(text)\n",
    "        df = pd.concat([df, temp])\n",
    "df['Date'] = pd.to_datetime(df['Date'], format='%d/%b/%Y')\n",
    "df['Denomination'] = df['Denomination'].str.replace(',', '').astype(int)\n",
    "df_purchaser = df.copy()\n",
    "       \n",
    "        \n"
   ]
  },
  {
   "cell_type": "code",
   "execution_count": 36,
   "id": "726ee293-704e-4369-8d51-fb53219ac323",
   "metadata": {},
   "outputs": [
    {
     "name": "stdout",
     "output_type": "stream",
     "text": [
      "426\n"
     ]
    },
    {
     "name": "stderr",
     "output_type": "stream",
     "text": [
      "100%|████████████████████████████████████████████████████████████████████████████████| 426/426 [00:13<00:00, 31.83it/s]\n"
     ]
    }
   ],
   "source": [
    "import PyPDF2\n",
    "import time\n",
    "import re\n",
    "import pandas as pd\n",
    "from tqdm import tqdm\n",
    "\n",
    "df = pd.DataFrame()\n",
    "\n",
    "def extract_text(text):\n",
    "    pattern = r'(\\d+/\\w+/\\d+)\\s+(.*?)\\s+(\\d+,\\d+,\\d+)'\n",
    "    matches = re.findall(pattern, text)\n",
    "    df = pd.DataFrame(matches, columns=['Date', 'Encashment_Party', 'Denomination'])\n",
    "    return df\n",
    "\n",
    "with open('electoral2.pdf', 'rb') as file:\n",
    "    # Create a PDF reader object\n",
    "    reader = PyPDF2.PdfReader(file)\n",
    "    # Get the number of pages in the PDF\n",
    "    num_pages = len(reader.pages)\n",
    "    print(num_pages)\n",
    "    # Loop through each page and extract text\n",
    "    for page_num in tqdm(range(num_pages)):\n",
    "        page = reader.pages[page_num]\n",
    "        text = page.extract_text()\n",
    "        temp = extract_text(text)\n",
    "        df = pd.concat([df, temp])\n",
    "df['Date'] = pd.to_datetime(df['Date'], format='%d/%b/%Y')\n",
    "df['Denomination'] = df['Denomination'].str.replace(',', '').astype(int)\n",
    "df_encashment = df.copy()\n",
    "       \n",
    "        \n"
   ]
  },
  {
   "cell_type": "code",
   "execution_count": 34,
   "id": "0487230d-ccfe-4c04-a61a-f88e2790b510",
   "metadata": {},
   "outputs": [],
   "source": [
    "df_encashment.to_excel('df_encashment.xlsx')\n",
    "df_purchaser.to_excel('df_purchaser.xlsx')\n"
   ]
  },
  {
   "cell_type": "code",
   "execution_count": 32,
   "id": "1f9ef8cd-0cab-4942-833c-2ea0d30595ec",
   "metadata": {},
   "outputs": [],
   "source": [
    "df_by_purchaser = df_purchaser.groupby(['Purchaser'])[['Denomination']].sum().reset_index()\n",
    "df_by_encasher = df_encashment.groupby(['Encashment_Party'])[['Denomination']].sum().reset_index()\n"
   ]
  },
  {
   "cell_type": "code",
   "execution_count": 33,
   "id": "e36eb8f4-84b8-41f0-aeab-ca093d21e72c",
   "metadata": {},
   "outputs": [
    {
     "data": {
      "text/html": [
       "<div>\n",
       "<style scoped>\n",
       "    .dataframe tbody tr th:only-of-type {\n",
       "        vertical-align: middle;\n",
       "    }\n",
       "\n",
       "    .dataframe tbody tr th {\n",
       "        vertical-align: top;\n",
       "    }\n",
       "\n",
       "    .dataframe thead th {\n",
       "        text-align: right;\n",
       "    }\n",
       "</style>\n",
       "<table border=\"1\" class=\"dataframe\">\n",
       "  <thead>\n",
       "    <tr style=\"text-align: right;\">\n",
       "      <th></th>\n",
       "      <th>Purchaser</th>\n",
       "      <th>Denomination</th>\n",
       "    </tr>\n",
       "  </thead>\n",
       "  <tbody>\n",
       "    <tr>\n",
       "      <th>0</th>\n",
       "      <td>14 REELS PLUS LLP</td>\n",
       "      <td>10000</td>\n",
       "    </tr>\n",
       "    <tr>\n",
       "      <th>1</th>\n",
       "      <td>A B C INDIA LIMITED</td>\n",
       "      <td>4000000</td>\n",
       "    </tr>\n",
       "    <tr>\n",
       "      <th>2</th>\n",
       "      <td>AAKANKSHA BAHETY</td>\n",
       "      <td>1000000</td>\n",
       "    </tr>\n",
       "    <tr>\n",
       "      <th>3</th>\n",
       "      <td>AALAYA CONSTRUCTIONS</td>\n",
       "      <td>10000</td>\n",
       "    </tr>\n",
       "    <tr>\n",
       "      <th>4</th>\n",
       "      <td>AARISH SOLAR POWER PRIVATE LIMITED</td>\n",
       "      <td>20000</td>\n",
       "    </tr>\n",
       "    <tr>\n",
       "      <th>...</th>\n",
       "      <td>...</td>\n",
       "      <td>...</td>\n",
       "    </tr>\n",
       "    <tr>\n",
       "      <th>1294</th>\n",
       "      <td>YUVAN TRADING   CONSULTANCY LLP</td>\n",
       "      <td>50000</td>\n",
       "    </tr>\n",
       "    <tr>\n",
       "      <th>1295</th>\n",
       "      <td>ZENSAR TECHNOLOGIES LTD</td>\n",
       "      <td>30000</td>\n",
       "    </tr>\n",
       "    <tr>\n",
       "      <th>1296</th>\n",
       "      <td>ZUVAN ENERGY PRIVATE LIMITED</td>\n",
       "      <td>10000</td>\n",
       "    </tr>\n",
       "    <tr>\n",
       "      <th>1297</th>\n",
       "      <td>ZUVAN ENERGY PVT LTD</td>\n",
       "      <td>20000</td>\n",
       "    </tr>\n",
       "    <tr>\n",
       "      <th>1298</th>\n",
       "      <td>ZYDUS HEALTHCARE LIMITED</td>\n",
       "      <td>290000</td>\n",
       "    </tr>\n",
       "  </tbody>\n",
       "</table>\n",
       "<p>1299 rows × 2 columns</p>\n",
       "</div>"
      ],
      "text/plain": [
       "                               Purchaser  Denomination\n",
       "0                      14 REELS PLUS LLP         10000\n",
       "1                    A B C INDIA LIMITED       4000000\n",
       "2                       AAKANKSHA BAHETY       1000000\n",
       "3                   AALAYA CONSTRUCTIONS         10000\n",
       "4     AARISH SOLAR POWER PRIVATE LIMITED         20000\n",
       "...                                  ...           ...\n",
       "1294     YUVAN TRADING   CONSULTANCY LLP         50000\n",
       "1295             ZENSAR TECHNOLOGIES LTD         30000\n",
       "1296        ZUVAN ENERGY PRIVATE LIMITED         10000\n",
       "1297                ZUVAN ENERGY PVT LTD         20000\n",
       "1298            ZYDUS HEALTHCARE LIMITED        290000\n",
       "\n",
       "[1299 rows x 2 columns]"
      ]
     },
     "execution_count": 33,
     "metadata": {},
     "output_type": "execute_result"
    }
   ],
   "source": [
    "df_by_purchaser"
   ]
  },
  {
   "cell_type": "code",
   "execution_count": null,
   "id": "86c59969-c33e-46a8-96cd-7b29b10ff6aa",
   "metadata": {},
   "outputs": [],
   "source": []
  },
  {
   "cell_type": "code",
   "execution_count": null,
   "id": "9d03d071-f62b-45be-a1ed-5068fc8a023f",
   "metadata": {},
   "outputs": [],
   "source": []
  },
  {
   "cell_type": "code",
   "execution_count": null,
   "id": "30977fba-c428-492d-aa46-dc0f164ba634",
   "metadata": {},
   "outputs": [],
   "source": []
  },
  {
   "cell_type": "code",
   "execution_count": null,
   "id": "d7fa82a0-8822-4db7-aed9-ff07eb984594",
   "metadata": {},
   "outputs": [],
   "source": []
  },
  {
   "cell_type": "code",
   "execution_count": null,
   "id": "afd60a6d-57a0-43e2-b58f-378fc716c9fb",
   "metadata": {},
   "outputs": [],
   "source": []
  }
 ],
 "metadata": {
  "kernelspec": {
   "display_name": "Python 3 (ipykernel)",
   "language": "python",
   "name": "python3"
  },
  "language_info": {
   "codemirror_mode": {
    "name": "ipython",
    "version": 3
   },
   "file_extension": ".py",
   "mimetype": "text/x-python",
   "name": "python",
   "nbconvert_exporter": "python",
   "pygments_lexer": "ipython3",
   "version": "3.12.0"
  },
  "widgets": {
   "application/vnd.jupyter.widget-state+json": {
    "state": {},
    "version_major": 2,
    "version_minor": 0
   }
  }
 },
 "nbformat": 4,
 "nbformat_minor": 5
}
